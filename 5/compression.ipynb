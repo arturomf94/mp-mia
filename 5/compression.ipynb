{
 "cells": [
  {
   "cell_type": "code",
   "execution_count": 30,
   "metadata": {},
   "outputs": [],
   "source": [
    "from __future__ import division\n",
    "import random\n",
    "import Queue"
   ]
  },
  {
   "cell_type": "code",
   "execution_count": 31,
   "metadata": {},
   "outputs": [],
   "source": [
    "## Parametros: \n",
    "\n",
    "# Probabilidad de 0 \n",
    "p = 3 / 4\n",
    "\n",
    "# Número de tuplas en la secuencia \n",
    "k = 10000\n",
    "\n",
    "# Tuplas: Son pares? Tercias?\n",
    "t = 2"
   ]
  },
  {
   "cell_type": "code",
   "execution_count": 32,
   "metadata": {},
   "outputs": [
    {
     "data": {
      "text/plain": [
       "[(0.1861, '(0, 1)'),\n",
       " (0.1914, '(1, 0)'),\n",
       " (0.5603, '(0, 0)'),\n",
       " (0.0622, '(1, 1)')]"
      ]
     },
     "execution_count": 32,
     "metadata": {},
     "output_type": "execute_result"
    }
   ],
   "source": [
    "# Secuencia de lanzamientos:\n",
    "\n",
    "n = t * k\n",
    "\n",
    "s = [(0 if random.random() < p else 1) for i in range(n)]\n",
    "\n",
    "# Convertir a tuplas: \n",
    "\n",
    "tups = []\n",
    "\n",
    "for i in range(0, n, t):\n",
    "    tup = []\n",
    "    for j in range(t):\n",
    "        tup.append(s[i + j])\n",
    "    tups.append(tuple(tup))\n",
    "\n",
    "# Frecuencias de tuplas: \n",
    "\n",
    "freq = []\n",
    "unique_tuples = list(set(tups))\n",
    "\n",
    "for elem in unique_tuples:\n",
    "    freq.append((tups.count(elem) / len(tups), str(elem)))\n",
    "    \n",
    "freq"
   ]
  },
  {
   "cell_type": "code",
   "execution_count": 33,
   "metadata": {},
   "outputs": [
    {
     "name": "stdout",
     "output_type": "stream",
     "text": [
      "('(0, 0)', '  0.56', '0')\n",
      "('(1, 0)', '  0.19', '11')\n",
      "('(0, 1)', '  0.19', '100')\n",
      "('(1, 1)', '  0.06', '101')\n"
     ]
    }
   ],
   "source": [
    "class HuffmanNode(object):\n",
    "    def __init__(self, left=None, right=None, root=None):\n",
    "        self.left = left\n",
    "        self.right = right\n",
    "        self.root = root\n",
    "    def children(self):\n",
    "        return((self.left, self.right))\n",
    "\n",
    "\n",
    "def create_tree(frequencies):\n",
    "    p = Queue.PriorityQueue()\n",
    "    for value in frequencies: \n",
    "        p.put(value)\n",
    "    while p.qsize() > 1:   \n",
    "        l, r = p.get(), p.get() \n",
    "        node = HuffmanNode(l, r)\n",
    "        p.put((l[0]+r[0], node))      \n",
    "    return p.get()               \n",
    "\n",
    "node = create_tree(freq)\n",
    "\n",
    "def walk_tree(node, prefix=\"\", code={}):\n",
    "    if isinstance(node[1].left[1], HuffmanNode):\n",
    "        walk_tree(node[1].left,prefix+\"1\", code)\n",
    "    else:\n",
    "        code[node[1].left[1]]=prefix+\"1\"\n",
    "    if isinstance(node[1].right[1],HuffmanNode):\n",
    "        walk_tree(node[1].right,prefix+\"0\", code)\n",
    "    else:\n",
    "        code[node[1].right[1]]=prefix+\"0\"\n",
    "    return(code)\n",
    "\n",
    "code = walk_tree(node)\n",
    "for i in sorted(freq, reverse=True):\n",
    "    print(i[1], '{:6.2f}'.format(i[0]), code[i[1]])"
   ]
  }
 ],
 "metadata": {
  "kernelspec": {
   "display_name": "Python 2",
   "language": "python",
   "name": "python2"
  },
  "language_info": {
   "codemirror_mode": {
    "name": "ipython",
    "version": 2
   },
   "file_extension": ".py",
   "mimetype": "text/x-python",
   "name": "python",
   "nbconvert_exporter": "python",
   "pygments_lexer": "ipython2",
   "version": "2.7.13"
  }
 },
 "nbformat": 4,
 "nbformat_minor": 2
}
