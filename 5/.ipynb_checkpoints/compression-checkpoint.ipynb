{
 "cells": [
  {
   "cell_type": "code",
   "execution_count": 79,
   "metadata": {},
   "outputs": [],
   "source": [
    "from __future__ import division\n",
    "import random\n",
    "import Queue\n",
    "import numpy as np\n",
    "import math"
   ]
  },
  {
   "cell_type": "code",
   "execution_count": 80,
   "metadata": {},
   "outputs": [],
   "source": [
    "class HuffmanNode(object):\n",
    "    def __init__(self, left=None, right=None, root=None):\n",
    "        self.left = left\n",
    "        self.right = right\n",
    "        self.root = root\n",
    "    def children(self):\n",
    "        return((self.left, self.right))\n",
    "\n",
    "\n",
    "def create_tree(frequencies):\n",
    "    p = Queue.PriorityQueue()\n",
    "    for value in frequencies: \n",
    "        p.put(value)\n",
    "    while p.qsize() > 1:   \n",
    "        l, r = p.get(), p.get() \n",
    "        node = HuffmanNode(l, r)\n",
    "        p.put((l[0]+r[0], node))      \n",
    "    return p.get()  \n",
    "\n",
    "def walk_tree(node, prefix=\"\", code={}):\n",
    "    if isinstance(node[1].left[1], HuffmanNode):\n",
    "        walk_tree(node[1].left,prefix+\"1\", code)\n",
    "    else:\n",
    "        code[node[1].left[1]]=prefix+\"1\"\n",
    "    if isinstance(node[1].right[1],HuffmanNode):\n",
    "        walk_tree(node[1].right,prefix+\"0\", code)\n",
    "    else:\n",
    "        code[node[1].right[1]]=prefix+\"0\"\n",
    "    return(code)\n",
    "\n",
    "def get_info(objective_tuple, freq, code):\n",
    "    objective_tuple = str(objective_tuple)\n",
    "    tuple_index = list(zip(*sorted(freq, reverse=True))[1]).index(objective_tuple)\n",
    "    weight = float(list(zip(*sorted(freq, reverse=True))[0])[tuple_index])\n",
    "    code_word = code[objective_tuple]\n",
    "    code_word_length = len(code_word)\n",
    "    contribution_to_w_path_length = code_word_length * weight\n",
    "    probability_budget = 2 ** (-code_word_length)\n",
    "    information_content = - math.log(weight, 2)\n",
    "    contribution_entropy = weight * information_content\n",
    "    \n",
    "    info = {\n",
    "        \"weight\": weight,\n",
    "        \"code_word\": code_word,\n",
    "        \"code_word_length\": code_word_length,\n",
    "        \"contribution_to_w_path_length\": contribution_to_w_path_length,\n",
    "        \"probability_budget\": probability_budget,\n",
    "        \"information_content\": information_content,\n",
    "        \"contribution_entropy\": contribution_entropy\n",
    "    }\n",
    "    \n",
    "    return info"
   ]
  },
  {
   "cell_type": "code",
   "execution_count": 81,
   "metadata": {},
   "outputs": [],
   "source": [
    "# EJEMPLO I:\n",
    "\n",
    "## Parametros:\n",
    "\n",
    "# Posibles valores y probabilidades:\n",
    "pairs = [(3/4, 'A'), (1/4, 'B')]\n",
    "\n",
    "# Número de tuplas en la secuencia \n",
    "k = 1000\n",
    "\n",
    "# Tuplas: Son pares? Tercias?\n",
    "t = 2"
   ]
  },
  {
   "cell_type": "code",
   "execution_count": 82,
   "metadata": {},
   "outputs": [],
   "source": [
    "n = t * k\n",
    "probabilities = np.random.multinomial(n, zip(*pairs)[0])\n",
    "result = zip(probabilities, zip(*pairs)[1])\n",
    "s = []\n",
    "for r in result: \n",
    "    s = s + list(r[0] * r[1])\n",
    "random.shuffle(s)"
   ]
  },
  {
   "cell_type": "code",
   "execution_count": 83,
   "metadata": {},
   "outputs": [
    {
     "data": {
      "text/plain": [
       "[(0.185, \"('B', 'A')\"),\n",
       " (0.172, \"('A', 'B')\"),\n",
       " (0.58, \"('A', 'A')\"),\n",
       " (0.063, \"('B', 'B')\")]"
      ]
     },
     "execution_count": 83,
     "metadata": {},
     "output_type": "execute_result"
    }
   ],
   "source": [
    "# Convertir a tuplas: \n",
    "\n",
    "tups = []\n",
    "\n",
    "for i in range(0, n, t):\n",
    "    tup = []\n",
    "    for j in range(t):\n",
    "        tup.append(s[i + j])\n",
    "    tups.append(tuple(tup))\n",
    "\n",
    "# Frecuencias de tuplas: \n",
    "\n",
    "freq = []\n",
    "unique_tuples = list(set(tups))\n",
    "\n",
    "for elem in unique_tuples:\n",
    "    freq.append((tups.count(elem) / len(tups), str(elem)))\n",
    "    \n",
    "freq"
   ]
  },
  {
   "cell_type": "code",
   "execution_count": 84,
   "metadata": {},
   "outputs": [
    {
     "name": "stdout",
     "output_type": "stream",
     "text": [
      "(\"('A', 'A')\", '  0.58', '0')\n",
      "(\"('B', 'A')\", '  0.18', '11')\n",
      "(\"('A', 'B')\", '  0.17', '100')\n",
      "(\"('B', 'B')\", '  0.06', '101')\n"
     ]
    }
   ],
   "source": [
    "node = create_tree(freq)\n",
    "code = walk_tree(node)\n",
    "for i in sorted(freq, reverse=True):\n",
    "    print(i[1], '{:6.2f}'.format(i[0]), code[i[1]])"
   ]
  },
  {
   "cell_type": "code",
   "execution_count": 85,
   "metadata": {},
   "outputs": [
    {
     "data": {
      "text/plain": [
       "{'code_word': '0',\n",
       " 'code_word_length': 1,\n",
       " 'contribution_entropy': 0.45580761289534855,\n",
       " 'contribution_to_w_path_length': 0.58,\n",
       " 'information_content': 0.7858751946471527,\n",
       " 'probability_budget': 0.5,\n",
       " 'weight': 0.58}"
      ]
     },
     "execution_count": 85,
     "metadata": {},
     "output_type": "execute_result"
    }
   ],
   "source": [
    "get_info(('A', 'A'), freq, code)"
   ]
  },
  {
   "cell_type": "code",
   "execution_count": 86,
   "metadata": {},
   "outputs": [
    {
     "data": {
      "text/plain": [
       "{'code_word': '100',\n",
       " 'code_word_length': 3,\n",
       " 'contribution_entropy': 0.43679735915311807,\n",
       " 'contribution_to_w_path_length': 0.516,\n",
       " 'information_content': 2.539519529959989,\n",
       " 'probability_budget': 0.125,\n",
       " 'weight': 0.172}"
      ]
     },
     "execution_count": 86,
     "metadata": {},
     "output_type": "execute_result"
    }
   ],
   "source": [
    "get_info(('A', 'B'), freq, code)"
   ]
  },
  {
   "cell_type": "code",
   "execution_count": 87,
   "metadata": {},
   "outputs": [
    {
     "name": "stdout",
     "output_type": "stream",
     "text": [
      "(\"('A', 'A')\", '  0.20', '11')\n",
      "(\"('A', 'E')\", '  0.07', '0100')\n",
      "(\"('A', 'D')\", '  0.06', '0101')\n",
      "(\"('E', 'A')\", '  0.06', '0111')\n",
      "(\"('B', 'A')\", '  0.05', '1001')\n",
      "(\"('D', 'A')\", '  0.05', '1010')\n",
      "(\"('A', 'F')\", '  0.05', '00000')\n",
      "(\"('C', 'A')\", '  0.05', '00001')\n",
      "(\"('A', 'C')\", '  0.04', '00011')\n",
      "(\"('A', 'B')\", '  0.04', '00100')\n",
      "(\"('F', 'A')\", '  0.04', '00110')\n",
      "(\"('D', 'B')\", '  0.02', '001110')\n",
      "(\"('B', 'E')\", '  0.02', '001111')\n",
      "(\"('C', 'D')\", '  0.01', '011001')\n",
      "(\"('B', 'F')\", '  0.01', '011010')\n",
      "(\"('F', 'D')\", '  0.01', '100000')\n",
      "(\"('B', 'B')\", '  0.01', '100001')\n",
      "(\"('E', 'B')\", '  0.01', '100011')\n",
      "(\"('D', 'D')\", '  0.01', '101100')\n",
      "(\"('B', 'C')\", '  0.01', '101101')\n",
      "(\"('F', 'B')\", '  0.01', '0001000')\n",
      "(\"('D', 'C')\", '  0.01', '0001001')\n",
      "(\"('C', 'F')\", '  0.01', '101110')\n",
      "(\"('C', 'C')\", '  0.01', '101111')\n",
      "(\"('F', 'F')\", '  0.01', '0010100')\n",
      "(\"('E', 'D')\", '  0.01', '0010101')\n",
      "(\"('E', 'C')\", '  0.01', '0001010')\n",
      "(\"('B', 'D')\", '  0.01', '0001011')\n",
      "(\"('D', 'F')\", '  0.01', '0010110')\n",
      "(\"('C', 'E')\", '  0.01', '0010111')\n",
      "(\"('F', 'E')\", '  0.01', '0110000')\n",
      "(\"('E', 'F')\", '  0.01', '0110001')\n",
      "(\"('C', 'B')\", '  0.01', '0110110')\n",
      "(\"('F', 'C')\", '  0.01', '0110111')\n",
      "(\"('E', 'E')\", '  0.01', '1000100')\n",
      "(\"('D', 'E')\", '  0.01', '1000101')\n"
     ]
    }
   ],
   "source": [
    "# EJEMPLO II:\n",
    "\n",
    "## Parametros:\n",
    "\n",
    "# Posibles valores y probabilidades:\n",
    "pairs = [(1/2, 'A'), (1/10, 'B'), (1/10, 'C'), (1/10, 'D'), (1/10, 'E'), (1/10, 'F')]\n",
    "\n",
    "# Número de tuplas en la secuencia \n",
    "k = 1000\n",
    "\n",
    "# Tuplas: Son pares? Tercias?\n",
    "t = 2\n",
    "\n",
    "n = t * k\n",
    "probabilities = np.random.multinomial(n, zip(*pairs)[0])\n",
    "result = zip(probabilities, zip(*pairs)[1])\n",
    "s = []\n",
    "for r in result: \n",
    "    s = s + list(r[0] * r[1])\n",
    "random.shuffle(s)\n",
    "\n",
    "# Convertir a tuplas: \n",
    "\n",
    "tups = []\n",
    "\n",
    "for i in range(0, n, t):\n",
    "    tup = []\n",
    "    for j in range(t):\n",
    "        tup.append(s[i + j])\n",
    "    tups.append(tuple(tup))\n",
    "\n",
    "# Frecuencias de tuplas: \n",
    "\n",
    "freq = []\n",
    "unique_tuples = list(set(tups))\n",
    "\n",
    "for elem in unique_tuples:\n",
    "    freq.append((tups.count(elem) / len(tups), str(elem)))\n",
    "    \n",
    "freq\n",
    "\n",
    "node = create_tree(freq)\n",
    "code = walk_tree(node)\n",
    "for i in sorted(freq, reverse=True):\n",
    "    print(i[1], '{:6.2f}'.format(i[0]), code[i[1]])"
   ]
  },
  {
   "cell_type": "code",
   "execution_count": 88,
   "metadata": {},
   "outputs": [
    {
     "data": {
      "text/plain": [
       "{'code_word': '101111',\n",
       " 'code_word_length': 6,\n",
       " 'contribution_entropy': 0.07656986140729118,\n",
       " 'contribution_to_w_path_length': 0.07200000000000001,\n",
       " 'information_content': 6.380821783940931,\n",
       " 'probability_budget': 0.015625,\n",
       " 'weight': 0.012}"
      ]
     },
     "execution_count": 88,
     "metadata": {},
     "output_type": "execute_result"
    }
   ],
   "source": [
    "get_info(('C', 'C'), freq, code)"
   ]
  },
  {
   "cell_type": "code",
   "execution_count": 89,
   "metadata": {},
   "outputs": [
    {
     "name": "stdout",
     "output_type": "stream",
     "text": [
      "(\"('A', 'A', 'A')\", '  0.14', '001')\n",
      "(\"('D', 'A', 'A')\", '  0.03', '01111')\n",
      "(\"('A', 'E', 'A')\", '  0.03', '10000')\n",
      "(\"('A', 'A', 'E')\", '  0.03', '10001')\n",
      "(\"('A', 'A', 'B')\", '  0.03', '10010')\n",
      "(\"('B', 'A', 'A')\", '  0.03', '10100')\n",
      "(\"('A', 'F', 'A')\", '  0.03', '10101')\n",
      "(\"('A', 'B', 'A')\", '  0.03', '11000')\n",
      "(\"('A', 'D', 'A')\", '  0.03', '11001')\n",
      "(\"('A', 'A', 'F')\", '  0.03', '11010')\n",
      "(\"('E', 'A', 'A')\", '  0.02', '000000')\n",
      "(\"('F', 'A', 'A')\", '  0.02', '000001')\n",
      "(\"('A', 'A', 'D')\", '  0.02', '000010')\n",
      "(\"('A', 'A', 'C')\", '  0.02', '000011')\n",
      "(\"('A', 'C', 'A')\", '  0.02', '000101')\n",
      "(\"('C', 'A', 'A')\", '  0.01', '100110')\n",
      "(\"('F', 'E', 'A')\", '  0.01', '0001001')\n",
      "(\"('F', 'A', 'D')\", '  0.01', '0100011')\n",
      "(\"('B', 'C', 'A')\", '  0.01', '0100100')\n",
      "(\"('A', 'B', 'F')\", '  0.01', '0100101')\n",
      "(\"('A', 'C', 'C')\", '  0.01', '0100110')\n",
      "(\"('A', 'B', 'D')\", '  0.01', '0100111')\n",
      "(\"('A', 'B', 'C')\", '  0.01', '0101000')\n",
      "(\"('F', 'D', 'A')\", '  0.01', '1001111')\n",
      "(\"('E', 'A', 'C')\", '  0.01', '1011000')\n",
      "(\"('E', 'A', 'B')\", '  0.01', '1011001')\n",
      "(\"('D', 'E', 'A')\", '  0.01', '1011010')\n",
      "(\"('D', 'D', 'A')\", '  0.01', '1011011')\n",
      "(\"('B', 'F', 'A')\", '  0.01', '1011100')\n",
      "(\"('A', 'E', 'F')\", '  0.01', '1011101')\n",
      "(\"('A', 'D', 'C')\", '  0.01', '1011110')\n",
      "(\"('F', 'B', 'A')\", '  0.01', '1101100')\n",
      "(\"('E', 'E', 'A')\", '  0.01', '1101101')\n",
      "(\"('D', 'A', 'F')\", '  0.01', '1101110')\n",
      "(\"('D', 'A', 'C')\", '  0.01', '1101111')\n",
      "(\"('C', 'E', 'A')\", '  0.01', '1110000')\n",
      "(\"('C', 'A', 'F')\", '  0.01', '1110001')\n",
      "(\"('C', 'A', 'C')\", '  0.01', '1110010')\n",
      "(\"('B', 'E', 'A')\", '  0.01', '1110011')\n",
      "(\"('B', 'B', 'A')\", '  0.01', '1110100')\n",
      "(\"('B', 'A', 'F')\", '  0.01', '1110101')\n",
      "(\"('B', 'A', 'B')\", '  0.01', '1110110')\n",
      "(\"('A', 'F', 'E')\", '  0.01', '1110111')\n",
      "(\"('A', 'C', 'D')\", '  0.01', '1111000')\n",
      "(\"('F', 'C', 'A')\", '  0.01', '00010001')\n",
      "(\"('F', 'A', 'C')\", '  0.01', '00011110')\n",
      "(\"('E', 'D', 'A')\", '  0.01', '00011111')\n",
      "(\"('E', 'A', 'E')\", '  0.01', '01000000')\n",
      "(\"('D', 'F', 'B')\", '  0.01', '01000001')\n",
      "(\"('D', 'A', 'B')\", '  0.01', '01000010')\n",
      "(\"('C', 'D', 'A')\", '  0.01', '01000011')\n",
      "(\"('C', 'B', 'A')\", '  0.01', '01000100')\n",
      "(\"('C', 'A', 'E')\", '  0.01', '01000101')\n",
      "(\"('B', 'C', 'F')\", '  0.01', '00011000')\n",
      "(\"('B', 'A', 'D')\", '  0.01', '00011001')\n",
      "(\"('B', 'A', 'C')\", '  0.01', '00011010')\n",
      "(\"('A', 'F', 'F')\", '  0.01', '00011011')\n",
      "(\"('A', 'F', 'D')\", '  0.01', '00011100')\n",
      "(\"('A', 'D', 'F')\", '  0.01', '00011101')\n",
      "(\"('F', 'A', 'E')\", '  0.00', '01010010')\n",
      "(\"('E', 'F', 'E')\", '  0.00', '01010011')\n",
      "(\"('E', 'A', 'F')\", '  0.00', '01010100')\n",
      "(\"('E', 'A', 'D')\", '  0.00', '01010101')\n",
      "(\"('D', 'F', 'A')\", '  0.00', '01010110')\n",
      "(\"('C', 'B', 'F')\", '  0.00', '01010111')\n",
      "(\"('C', 'A', 'B')\", '  0.00', '01011000')\n",
      "(\"('A', 'F', 'C')\", '  0.00', '01011001')\n",
      "(\"('A', 'F', 'B')\", '  0.00', '01011010')\n",
      "(\"('A', 'E', 'B')\", '  0.00', '01011011')\n",
      "(\"('A', 'D', 'E')\", '  0.00', '01011100')\n",
      "(\"('A', 'D', 'B')\", '  0.00', '01011101')\n",
      "(\"('A', 'C', 'F')\", '  0.00', '01011110')\n",
      "(\"('A', 'C', 'E')\", '  0.00', '01011111')\n",
      "(\"('A', 'C', 'B')\", '  0.00', '01100000')\n",
      "(\"('A', 'B', 'E')\", '  0.00', '01100001')\n",
      "(\"('A', 'B', 'B')\", '  0.00', '01100010')\n",
      "(\"('F', 'A', 'F')\", '  0.00', '10111111')\n",
      "(\"('F', 'A', 'B')\", '  0.00', '11110010')\n",
      "(\"('E', 'F', 'A')\", '  0.00', '11110011')\n",
      "(\"('E', 'E', 'B')\", '  0.00', '11110100')\n",
      "(\"('E', 'C', 'C')\", '  0.00', '11110101')\n",
      "(\"('E', 'B', 'E')\", '  0.00', '11110110')\n",
      "(\"('E', 'B', 'A')\", '  0.00', '11110111')\n",
      "(\"('D', 'F', 'C')\", '  0.00', '11111000')\n",
      "(\"('D', 'B', 'D')\", '  0.00', '11111001')\n",
      "(\"('D', 'B', 'A')\", '  0.00', '11111010')\n",
      "(\"('C', 'F', 'A')\", '  0.00', '11111011')\n",
      "(\"('C', 'E', 'E')\", '  0.00', '11111100')\n",
      "(\"('C', 'A', 'D')\", '  0.00', '11111101')\n",
      "(\"('B', 'B', 'D')\", '  0.00', '11111110')\n",
      "(\"('A', 'E', 'C')\", '  0.00', '11111111')\n",
      "(\"('A', 'D', 'D')\", '  0.00', '000100000')\n",
      "(\"('F', 'F', 'A')\", '  0.00', '011000110')\n",
      "(\"('F', 'E', 'E')\", '  0.00', '011000111')\n",
      "(\"('F', 'D', 'C')\", '  0.00', '011001000')\n",
      "(\"('F', 'D', 'B')\", '  0.00', '011001001')\n",
      "(\"('F', 'C', 'D')\", '  0.00', '011001010')\n",
      "(\"('E', 'C', 'A')\", '  0.00', '011001011')\n",
      "(\"('E', 'B', 'D')\", '  0.00', '011001100')\n",
      "(\"('D', 'F', 'E')\", '  0.00', '011001101')\n",
      "(\"('D', 'F', 'D')\", '  0.00', '011001110')\n",
      "(\"('D', 'E', 'F')\", '  0.00', '011001111')\n",
      "(\"('D', 'D', 'D')\", '  0.00', '011010000')\n",
      "(\"('D', 'A', 'E')\", '  0.00', '011010001')\n",
      "(\"('D', 'A', 'D')\", '  0.00', '011010010')\n",
      "(\"('C', 'F', 'F')\", '  0.00', '011010011')\n",
      "(\"('C', 'F', 'C')\", '  0.00', '011010100')\n",
      "(\"('C', 'F', 'B')\", '  0.00', '011010101')\n",
      "(\"('C', 'E', 'D')\", '  0.00', '011010110')\n",
      "(\"('C', 'D', 'E')\", '  0.00', '011010111')\n",
      "(\"('C', 'C', 'E')\", '  0.00', '011011000')\n",
      "(\"('C', 'C', 'A')\", '  0.00', '011011001')\n",
      "(\"('B', 'F', 'B')\", '  0.00', '011011010')\n",
      "(\"('B', 'D', 'F')\", '  0.00', '011011011')\n",
      "(\"('B', 'D', 'C')\", '  0.00', '011011100')\n",
      "(\"('B', 'D', 'B')\", '  0.00', '011011101')\n",
      "(\"('B', 'D', 'A')\", '  0.00', '011011110')\n",
      "(\"('B', 'C', 'E')\", '  0.00', '011011111')\n",
      "(\"('B', 'C', 'C')\", '  0.00', '011100000')\n",
      "(\"('B', 'B', 'F')\", '  0.00', '011100001')\n",
      "(\"('A', 'E', 'D')\", '  0.00', '011100010')\n",
      "(\"('F', 'F', 'D')\", '  0.00', '0001000011')\n",
      "(\"('F', 'F', 'C')\", '  0.00', '1001110010')\n",
      "(\"('F', 'E', 'F')\", '  0.00', '1001110011')\n",
      "(\"('F', 'E', 'C')\", '  0.00', '1001110100')\n",
      "(\"('F', 'D', 'D')\", '  0.00', '1001110101')\n",
      "(\"('F', 'B', 'E')\", '  0.00', '1001110110')\n",
      "(\"('F', 'B', 'D')\", '  0.00', '1001110111')\n",
      "(\"('F', 'B', 'C')\", '  0.00', '1011111000')\n",
      "(\"('F', 'B', 'B')\", '  0.00', '1011111001')\n",
      "(\"('E', 'F', 'F')\", '  0.00', '1011111010')\n",
      "(\"('E', 'F', 'D')\", '  0.00', '1011111011')\n",
      "(\"('E', 'E', 'F')\", '  0.00', '00010000100')\n",
      "(\"('E', 'E', 'C')\", '  0.00', '00010000101')\n",
      "(\"('E', 'D', 'E')\", '  0.00', '1001110000')\n",
      "(\"('E', 'D', 'D')\", '  0.00', '1001110001')\n",
      "(\"('E', 'D', 'C')\", '  0.00', '0111001110')\n",
      "(\"('E', 'D', 'B')\", '  0.00', '0111001111')\n",
      "(\"('E', 'C', 'D')\", '  0.00', '0111010000')\n",
      "(\"('E', 'B', 'F')\", '  0.00', '0111010001')\n",
      "(\"('E', 'B', 'B')\", '  0.00', '0111010110')\n",
      "(\"('D', 'F', 'F')\", '  0.00', '0111010111')\n",
      "(\"('D', 'E', 'E')\", '  0.00', '0111001100')\n",
      "(\"('D', 'E', 'D')\", '  0.00', '0111001101')\n",
      "(\"('D', 'D', 'F')\", '  0.00', '0111001000')\n",
      "(\"('D', 'C', 'D')\", '  0.00', '0111001001')\n",
      "(\"('D', 'C', 'A')\", '  0.00', '0111011110')\n",
      "(\"('D', 'B', 'F')\", '  0.00', '0111011111')\n",
      "(\"('C', 'F', 'E')\", '  0.00', '0111000110')\n",
      "(\"('C', 'E', 'C')\", '  0.00', '0111000111')\n",
      "(\"('C', 'D', 'D')\", '  0.00', '0111011000')\n",
      "(\"('C', 'C', 'C')\", '  0.00', '0111011001')\n",
      "(\"('C', 'B', 'E')\", '  0.00', '0111011010')\n",
      "(\"('C', 'B', 'D')\", '  0.00', '0111011011')\n",
      "(\"('C', 'B', 'B')\", '  0.00', '0111001010')\n",
      "(\"('B', 'F', 'D')\", '  0.00', '0111001011')\n",
      "(\"('B', 'E', 'E')\", '  0.00', '0111011100')\n",
      "(\"('B', 'C', 'B')\", '  0.00', '0111011101')\n",
      "(\"('B', 'B', 'E')\", '  0.00', '0111010100')\n",
      "(\"('B', 'B', 'B')\", '  0.00', '0111010101')\n",
      "(\"('B', 'A', 'E')\", '  0.00', '0111010010')\n",
      "(\"('A', 'E', 'E')\", '  0.00', '0111010011')\n"
     ]
    }
   ],
   "source": [
    "# EJEMPLO III:\n",
    "\n",
    "## Parametros:\n",
    "\n",
    "# Posibles valores y probabilidades:\n",
    "pairs = [(1/2, 'A'), (1/10, 'B'), (1/10, 'C'), (1/10, 'D'), (1/10, 'E'), (1/10, 'F')]\n",
    "\n",
    "# Número de tuplas en la secuencia \n",
    "k = 1000\n",
    "\n",
    "# Tuplas: Son pares? Tercias?\n",
    "t = 3\n",
    "\n",
    "n = t * k\n",
    "probabilities = np.random.multinomial(n, zip(*pairs)[0])\n",
    "result = zip(probabilities, zip(*pairs)[1])\n",
    "s = []\n",
    "for r in result: \n",
    "    s = s + list(r[0] * r[1])\n",
    "random.shuffle(s)\n",
    "\n",
    "# Convertir a tuplas: \n",
    "\n",
    "tups = []\n",
    "\n",
    "for i in range(0, n, t):\n",
    "    tup = []\n",
    "    for j in range(t):\n",
    "        tup.append(s[i + j])\n",
    "    tups.append(tuple(tup))\n",
    "\n",
    "# Frecuencias de tuplas: \n",
    "\n",
    "freq = []\n",
    "unique_tuples = list(set(tups))\n",
    "\n",
    "for elem in unique_tuples:\n",
    "    freq.append((tups.count(elem) / len(tups), str(elem)))\n",
    "    \n",
    "freq\n",
    "\n",
    "node = create_tree(freq)\n",
    "code = walk_tree(node)\n",
    "for i in sorted(freq, reverse=True):\n",
    "    print(i[1], '{:6.2f}'.format(i[0]), code[i[1]])"
   ]
  },
  {
   "cell_type": "code",
   "execution_count": 90,
   "metadata": {},
   "outputs": [
    {
     "data": {
      "text/plain": [
       "{'code_word': '001',\n",
       " 'code_word_length': 3,\n",
       " 'contribution_entropy': 0.3928820516331138,\n",
       " 'contribution_to_w_path_length': 0.41100000000000003,\n",
       " 'information_content': 2.86775220170156,\n",
       " 'probability_budget': 0.125,\n",
       " 'weight': 0.137}"
      ]
     },
     "execution_count": 90,
     "metadata": {},
     "output_type": "execute_result"
    }
   ],
   "source": [
    "get_info(('A', 'A', 'A'), freq, code)"
   ]
  },
  {
   "cell_type": "code",
   "execution_count": 91,
   "metadata": {},
   "outputs": [
    {
     "data": {
      "text/plain": [
       "{'code_word': '1011000',\n",
       " 'code_word_length': 7,\n",
       " 'contribution_entropy': 0.050109005538231374,\n",
       " 'contribution_to_w_path_length': 0.049,\n",
       " 'information_content': 7.158429362604482,\n",
       " 'probability_budget': 0.0078125,\n",
       " 'weight': 0.007}"
      ]
     },
     "execution_count": 91,
     "metadata": {},
     "output_type": "execute_result"
    }
   ],
   "source": [
    "get_info(('E', 'A', 'C'), freq, code)"
   ]
  }
 ],
 "metadata": {
  "kernelspec": {
   "display_name": "Python 2",
   "language": "python",
   "name": "python2"
  },
  "language_info": {
   "codemirror_mode": {
    "name": "ipython",
    "version": 2
   },
   "file_extension": ".py",
   "mimetype": "text/x-python",
   "name": "python",
   "nbconvert_exporter": "python",
   "pygments_lexer": "ipython2",
   "version": "2.7.13"
  }
 },
 "nbformat": 4,
 "nbformat_minor": 2
}
