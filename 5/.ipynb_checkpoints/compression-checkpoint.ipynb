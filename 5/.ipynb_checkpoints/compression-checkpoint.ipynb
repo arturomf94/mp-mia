{
 "cells": [
  {
   "cell_type": "code",
   "execution_count": 81,
   "metadata": {},
   "outputs": [],
   "source": [
    "from __future__ import division\n",
    "import random\n",
    "import Queue\n",
    "import numpy as np"
   ]
  },
  {
   "cell_type": "code",
   "execution_count": 93,
   "metadata": {},
   "outputs": [],
   "source": [
    "## Parametros:\n",
    "\n",
    "# Posibles valores y probabilidades:\n",
    "pairs = [(1/4, 'A'), (1/4, 'B'), (1/2, 'C')]\n",
    "\n",
    "# Número de tuplas en la secuencia \n",
    "k = 1000\n",
    "\n",
    "# Tuplas: Son pares? Tercias?\n",
    "t = 3"
   ]
  },
  {
   "cell_type": "code",
   "execution_count": 94,
   "metadata": {},
   "outputs": [],
   "source": [
    "n = t * k\n",
    "probabilities = np.random.multinomial(n, zip(*pairs)[0])\n",
    "result = zip(probabilities, zip(*pairs)[1])\n",
    "s = []\n",
    "for r in result: \n",
    "    s = s + list(r[0] * r[1])\n",
    "random.shuffle(s)"
   ]
  },
  {
   "cell_type": "code",
   "execution_count": 95,
   "metadata": {},
   "outputs": [
    {
     "data": {
      "text/plain": [
       "[(0.049, \"('B', 'C', 'A')\"),\n",
       " (0.011, \"('A', 'B', 'B')\"),\n",
       " (0.033, \"('C', 'A', 'B')\"),\n",
       " (0.033, \"('A', 'A', 'C')\"),\n",
       " (0.011, \"('A', 'B', 'A')\"),\n",
       " (0.066, \"('C', 'A', 'C')\"),\n",
       " (0.013, \"('A', 'A', 'A')\"),\n",
       " (0.06, \"('C', 'C', 'B')\"),\n",
       " (0.118, \"('C', 'C', 'C')\"),\n",
       " (0.059, \"('C', 'C', 'A')\"),\n",
       " (0.019, \"('B', 'A', 'A')\"),\n",
       " (0.031, \"('B', 'A', 'C')\"),\n",
       " (0.01, \"('B', 'A', 'B')\"),\n",
       " (0.029, \"('C', 'B', 'A')\"),\n",
       " (0.016, \"('B', 'B', 'A')\"),\n",
       " (0.016, \"('B', 'B', 'B')\"),\n",
       " (0.034, \"('A', 'C', 'A')\"),\n",
       " (0.061, \"('C', 'B', 'C')\"),\n",
       " (0.028, \"('B', 'B', 'C')\"),\n",
       " (0.025, \"('A', 'C', 'B')\"),\n",
       " (0.038, \"('C', 'B', 'B')\"),\n",
       " (0.065, \"('A', 'C', 'C')\"),\n",
       " (0.069, \"('B', 'C', 'C')\"),\n",
       " (0.032, \"('B', 'C', 'B')\"),\n",
       " (0.029, \"('A', 'B', 'C')\"),\n",
       " (0.03, \"('C', 'A', 'A')\"),\n",
       " (0.015, \"('A', 'A', 'B')\")]"
      ]
     },
     "execution_count": 95,
     "metadata": {},
     "output_type": "execute_result"
    }
   ],
   "source": [
    "# Convertir a tuplas: \n",
    "\n",
    "tups = []\n",
    "\n",
    "for i in range(0, n, t):\n",
    "    tup = []\n",
    "    for j in range(t):\n",
    "        tup.append(s[i + j])\n",
    "    tups.append(tuple(tup))\n",
    "\n",
    "# Frecuencias de tuplas: \n",
    "\n",
    "freq = []\n",
    "unique_tuples = list(set(tups))\n",
    "\n",
    "for elem in unique_tuples:\n",
    "    freq.append((tups.count(elem) / len(tups), str(elem)))\n",
    "    \n",
    "freq"
   ]
  },
  {
   "cell_type": "code",
   "execution_count": 96,
   "metadata": {},
   "outputs": [
    {
     "name": "stdout",
     "output_type": "stream",
     "text": [
      "(\"('C', 'C', 'C')\", '  0.12', '101')\n",
      "(\"('B', 'C', 'C')\", '  0.07', '0001')\n",
      "(\"('C', 'A', 'C')\", '  0.07', '0011')\n",
      "(\"('A', 'C', 'C')\", '  0.07', '0101')\n",
      "(\"('C', 'B', 'C')\", '  0.06', '0111')\n",
      "(\"('C', 'C', 'B')\", '  0.06', '1001')\n",
      "(\"('C', 'C', 'A')\", '  0.06', '1100')\n",
      "(\"('B', 'C', 'A')\", '  0.05', '1111')\n",
      "(\"('C', 'B', 'B')\", '  0.04', '00001')\n",
      "(\"('A', 'C', 'A')\", '  0.03', '00101')\n",
      "(\"('C', 'A', 'B')\", '  0.03', '01000')\n",
      "(\"('A', 'A', 'C')\", '  0.03', '01001')\n",
      "(\"('B', 'C', 'B')\", '  0.03', '01100')\n",
      "(\"('B', 'A', 'C')\", '  0.03', '01101')\n",
      "(\"('C', 'A', 'A')\", '  0.03', '10001')\n",
      "(\"('C', 'B', 'A')\", '  0.03', '11010')\n",
      "(\"('A', 'B', 'C')\", '  0.03', '11011')\n",
      "(\"('B', 'B', 'C')\", '  0.03', '11100')\n",
      "(\"('A', 'C', 'B')\", '  0.03', '11101')\n",
      "(\"('B', 'A', 'A')\", '  0.02', '001000')\n",
      "(\"('B', 'B', 'B')\", '  0.02', '001001')\n",
      "(\"('B', 'B', 'A')\", '  0.02', '100000')\n",
      "(\"('A', 'A', 'B')\", '  0.01', '100001')\n",
      "(\"('A', 'A', 'A')\", '  0.01', '0000000')\n",
      "(\"('A', 'B', 'B')\", '  0.01', '0000001')\n",
      "(\"('A', 'B', 'A')\", '  0.01', '0000010')\n",
      "(\"('B', 'A', 'B')\", '  0.01', '0000011')\n"
     ]
    }
   ],
   "source": [
    "class HuffmanNode(object):\n",
    "    def __init__(self, left=None, right=None, root=None):\n",
    "        self.left = left\n",
    "        self.right = right\n",
    "        self.root = root\n",
    "    def children(self):\n",
    "        return((self.left, self.right))\n",
    "\n",
    "\n",
    "def create_tree(frequencies):\n",
    "    p = Queue.PriorityQueue()\n",
    "    for value in frequencies: \n",
    "        p.put(value)\n",
    "    while p.qsize() > 1:   \n",
    "        l, r = p.get(), p.get() \n",
    "        node = HuffmanNode(l, r)\n",
    "        p.put((l[0]+r[0], node))      \n",
    "    return p.get()               \n",
    "\n",
    "node = create_tree(freq)\n",
    "\n",
    "def walk_tree(node, prefix=\"\", code={}):\n",
    "    if isinstance(node[1].left[1], HuffmanNode):\n",
    "        walk_tree(node[1].left,prefix+\"1\", code)\n",
    "    else:\n",
    "        code[node[1].left[1]]=prefix+\"1\"\n",
    "    if isinstance(node[1].right[1],HuffmanNode):\n",
    "        walk_tree(node[1].right,prefix+\"0\", code)\n",
    "    else:\n",
    "        code[node[1].right[1]]=prefix+\"0\"\n",
    "    return(code)\n",
    "\n",
    "code = walk_tree(node)\n",
    "for i in sorted(freq, reverse=True):\n",
    "    print(i[1], '{:6.2f}'.format(i[0]), code[i[1]])"
   ]
  }
 ],
 "metadata": {
  "kernelspec": {
   "display_name": "Python 2",
   "language": "python",
   "name": "python2"
  },
  "language_info": {
   "codemirror_mode": {
    "name": "ipython",
    "version": 2
   },
   "file_extension": ".py",
   "mimetype": "text/x-python",
   "name": "python",
   "nbconvert_exporter": "python",
   "pygments_lexer": "ipython2",
   "version": "2.7.13"
  }
 },
 "nbformat": 4,
 "nbformat_minor": 2
}
