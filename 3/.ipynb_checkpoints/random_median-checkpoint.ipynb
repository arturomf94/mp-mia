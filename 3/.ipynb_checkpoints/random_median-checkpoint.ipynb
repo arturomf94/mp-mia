{
 "cells": [
  {
   "cell_type": "code",
   "execution_count": 9,
   "metadata": {},
   "outputs": [],
   "source": [
    "from __future__ import division\n",
    "import random\n",
    "import math"
   ]
  },
  {
   "cell_type": "code",
   "execution_count": 1,
   "metadata": {},
   "outputs": [],
   "source": [
    "# Sample space\n",
    "universe = range(1000000)"
   ]
  },
  {
   "cell_type": "code",
   "execution_count": 4,
   "metadata": {},
   "outputs": [],
   "source": [
    "# Create samples\n",
    "num_samples = 100\n",
    "sample_length = 301\n",
    "samples = []\n",
    "for i in range(num_samples):\n",
    "    new_sample = []\n",
    "    while len(new_sample) < sample_length:\n",
    "        new_element = random.choice(universe)\n",
    "        if not new_element in new_sample: \n",
    "            new_sample.append(new_element)\n",
    "    samples.append(new_sample)"
   ]
  },
  {
   "cell_type": "code",
   "execution_count": 40,
   "metadata": {},
   "outputs": [],
   "source": [
    "def random_median(sample):\n",
    "    n = len(sample)\n",
    "    R_len = int(math.ceil(n**(3/4)))\n",
    "    R = [random.choice(sample) for i in range(R_len)]\n",
    "    R.sort()\n",
    "    d_pos = int(math.floor(1/2*n**(3/4) - math.sqrt(n)))\n",
    "    u_pos = int(math.floor(1/2*n**(3/4) + math.sqrt(n)))\n",
    "    d = R[d_pos]\n",
    "    u = R[u_pos]\n",
    "    C = [x for x in sample if x <= u and x >= d]\n",
    "    l_d = len([x for x in sample if x < d])\n",
    "\n",
    "    return R"
   ]
  },
  {
   "cell_type": "code",
   "execution_count": 41,
   "metadata": {},
   "outputs": [
    {
     "data": {
      "text/plain": [
       "[1771,\n",
       " 5297,\n",
       " 8710,\n",
       " 8710,\n",
       " 25077,\n",
       " 44192,\n",
       " 49801,\n",
       " 87042,\n",
       " 103336,\n",
       " 106953,\n",
       " 107291,\n",
       " 110415,\n",
       " 111658,\n",
       " 113845,\n",
       " 113845,\n",
       " 138325,\n",
       " 147192,\n",
       " 156471,\n",
       " 158683,\n",
       " 159404,\n",
       " 168581,\n",
       " 185972,\n",
       " 226362,\n",
       " 317242,\n",
       " 317242,\n",
       " 349159,\n",
       " 459172,\n",
       " 469306,\n",
       " 476330,\n",
       " 484016,\n",
       " 515296,\n",
       " 517582,\n",
       " 522469,\n",
       " 529986,\n",
       " 529986,\n",
       " 530706,\n",
       " 542773,\n",
       " 546631,\n",
       " 548533,\n",
       " 551570,\n",
       " 551570,\n",
       " 568147,\n",
       " 581022,\n",
       " 585718,\n",
       " 588407,\n",
       " 598035,\n",
       " 619638,\n",
       " 658422,\n",
       " 660296,\n",
       " 679193,\n",
       " 695821,\n",
       " 699278,\n",
       " 723110,\n",
       " 758133,\n",
       " 784615,\n",
       " 789957,\n",
       " 791270,\n",
       " 792253,\n",
       " 793917,\n",
       " 800436,\n",
       " 821963,\n",
       " 821963,\n",
       " 840224,\n",
       " 854158,\n",
       " 860610,\n",
       " 866790,\n",
       " 872881,\n",
       " 887360,\n",
       " 933842,\n",
       " 958708,\n",
       " 970725,\n",
       " 976455,\n",
       " 976455]"
      ]
     },
     "execution_count": 41,
     "metadata": {},
     "output_type": "execute_result"
    }
   ],
   "source": []
  }
 ],
 "metadata": {
  "kernelspec": {
   "display_name": "mp-mia-3",
   "language": "python",
   "name": "mp-mia-3"
  },
  "language_info": {
   "codemirror_mode": {
    "name": "ipython",
    "version": 2
   },
   "file_extension": ".py",
   "mimetype": "text/x-python",
   "name": "python",
   "nbconvert_exporter": "python",
   "pygments_lexer": "ipython2",
   "version": "2.7.13"
  }
 },
 "nbformat": 4,
 "nbformat_minor": 2
}
