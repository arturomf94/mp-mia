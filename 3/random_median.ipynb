{
 "cells": [
  {
   "cell_type": "code",
   "execution_count": 9,
   "metadata": {},
   "outputs": [],
   "source": [
    "from __future__ import division\n",
    "import random\n",
    "import math"
   ]
  },
  {
   "cell_type": "code",
   "execution_count": 1,
   "metadata": {},
   "outputs": [],
   "source": [
    "# Sample space\n",
    "universe = range(1000000)"
   ]
  },
  {
   "cell_type": "code",
   "execution_count": 4,
   "metadata": {},
   "outputs": [],
   "source": [
    "# Create samples\n",
    "num_samples = 100\n",
    "sample_length = 301\n",
    "samples = []\n",
    "for i in range(num_samples):\n",
    "    new_sample = []\n",
    "    while len(new_sample) < sample_length:\n",
    "        new_element = random.choice(universe)\n",
    "        if not new_element in new_sample: \n",
    "            new_sample.append(new_element)\n",
    "    samples.append(new_sample)"
   ]
  },
  {
   "cell_type": "code",
   "execution_count": 25,
   "metadata": {},
   "outputs": [],
   "source": [
    "def random_median(sample):\n",
    "    R_len = int(math.ceil(len(sample)**(3/4)))\n",
    "    R = [random.choice(sample) for i in range(R_len)]\n",
    "    return R"
   ]
  },
  {
   "cell_type": "code",
   "execution_count": 39,
   "metadata": {},
   "outputs": [
    {
     "data": {
      "text/plain": [
       "[5609,\n",
       " 8710,\n",
       " 14012,\n",
       " 24904,\n",
       " 24904,\n",
       " 44192,\n",
       " 72365,\n",
       " 85925,\n",
       " 103336,\n",
       " 107291,\n",
       " 112621,\n",
       " 140887,\n",
       " 151187,\n",
       " 158683,\n",
       " 159404,\n",
       " 159404,\n",
       " 203906,\n",
       " 207284,\n",
       " 215960,\n",
       " 216116,\n",
       " 226362,\n",
       " 245543,\n",
       " 282375,\n",
       " 286006,\n",
       " 303586,\n",
       " 309546,\n",
       " 309546,\n",
       " 410236,\n",
       " 431271,\n",
       " 441729,\n",
       " 441729,\n",
       " 442048,\n",
       " 452370,\n",
       " 464871,\n",
       " 464871,\n",
       " 468629,\n",
       " 480027,\n",
       " 487665,\n",
       " 509437,\n",
       " 511095,\n",
       " 515296,\n",
       " 538508,\n",
       " 539176,\n",
       " 546631,\n",
       " 557214,\n",
       " 579173,\n",
       " 588407,\n",
       " 625509,\n",
       " 629589,\n",
       " 629589,\n",
       " 633110,\n",
       " 660296,\n",
       " 679193,\n",
       " 723996,\n",
       " 723996,\n",
       " 748616,\n",
       " 750325,\n",
       " 753343,\n",
       " 758133,\n",
       " 758307,\n",
       " 758307,\n",
       " 763337,\n",
       " 763337,\n",
       " 816983,\n",
       " 816983,\n",
       " 819299,\n",
       " 821963,\n",
       " 834603,\n",
       " 840224,\n",
       " 866790,\n",
       " 904433,\n",
       " 963480,\n",
       " 965054]"
      ]
     },
     "execution_count": 39,
     "metadata": {},
     "output_type": "execute_result"
    }
   ],
   "source": []
  },
  {
   "cell_type": "code",
   "execution_count": 38,
   "metadata": {},
   "outputs": [
    {
     "name": "stdout",
     "output_type": "stream",
     "text": [
      "None\n"
     ]
    }
   ],
   "source": [
    "l = [1,0,2,-1].sort()\n",
    "print(l)"
   ]
  }
 ],
 "metadata": {
  "kernelspec": {
   "display_name": "mp-mia-3",
   "language": "python",
   "name": "mp-mia-3"
  },
  "language_info": {
   "codemirror_mode": {
    "name": "ipython",
    "version": 2
   },
   "file_extension": ".py",
   "mimetype": "text/x-python",
   "name": "python",
   "nbconvert_exporter": "python",
   "pygments_lexer": "ipython2",
   "version": "2.7.13"
  }
 },
 "nbformat": 4,
 "nbformat_minor": 2
}
